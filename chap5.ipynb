{
  "nbformat": 4,
  "nbformat_minor": 0,
  "metadata": {
    "colab": {
      "name": "chap5.ipynb",
      "provenance": [],
      "history_visible": true,
      "authorship_tag": "ABX9TyOQpE0t5MIcb0kH+B66qY4J",
      "include_colab_link": true
    },
    "kernelspec": {
      "name": "python3",
      "display_name": "Python 3"
    },
    "language_info": {
      "name": "python"
    }
  },
  "cells": [
    {
      "cell_type": "markdown",
      "metadata": {
        "id": "view-in-github",
        "colab_type": "text"
      },
      "source": [
        "<a href=\"https://colab.research.google.com/github/Tonge-Shim/pytorchstudy/blob/main/chap5.ipynb\" target=\"_parent\"><img src=\"https://colab.research.google.com/assets/colab-badge.svg\" alt=\"Open In Colab\"/></a>"
      ]
    },
    {
      "cell_type": "code",
      "metadata": {
        "id": "yME6a6Ob0x6t"
      },
      "source": [
        "import torch"
      ],
      "execution_count": 1,
      "outputs": []
    },
    {
      "cell_type": "markdown",
      "metadata": {
        "id": "U9-_BB5Nir_c"
      },
      "source": [
        "#celcius -> fahrenheit\n",
        "w = 5.5556, b = -17.7778"
      ]
    },
    {
      "cell_type": "code",
      "metadata": {
        "id": "ODpzhQO30QqE"
      },
      "source": [
        "t_c = [0.5, 14.0, 15.0, 28.0, 11.0, 8.0, 3.0, -4.0, 6.0, 13.0, 21.0]\n",
        "t_u = [35.7, 55.9, 58.2, 81.9, 56.3, 48.9, 33.9, 21.8, 48.4, 60.4, 68.4]\n",
        "t_c = torch.tensor(t_c)\n",
        "t_u = torch.tensor(t_u)"
      ],
      "execution_count": 2,
      "outputs": []
    },
    {
      "cell_type": "markdown",
      "metadata": {
        "id": "NcyNYp40NPRf"
      },
      "source": [
        "parameters will be pytorch scalars(zero-dimensional tensors)"
      ]
    },
    {
      "cell_type": "code",
      "metadata": {
        "colab": {
          "base_uri": "https://localhost:8080/"
        },
        "id": "nGjcO6dJ04aP",
        "outputId": "0eeffefb-4ae1-49fe-b1b6-f56ac96122ee"
      },
      "source": [
        "def model(t_u, w, b):\n",
        "    return w * t_u +b\n",
        "#mean square loss\n",
        "def loss_fn(t_p, t_c):\n",
        "    squared_diffs = (t_p - t_c)**2\n",
        "    return squared_diffs.mean()\n",
        "#initialize parameters\n",
        "w = torch.ones(())\n",
        "b = torch.zeros(())\n",
        "\n",
        "t_p = model(t_u, w, b)\n",
        "print(t_p)\n",
        "loss = loss_fn(t_p, t_c)\n",
        "print(loss)\n"
      ],
      "execution_count": 10,
      "outputs": [
        {
          "output_type": "stream",
          "text": [
            "tensor([35.7000, 55.9000, 58.2000, 81.9000, 56.3000, 48.9000, 33.9000, 21.8000,\n",
            "        48.4000, 60.4000, 68.4000])\n",
            "tensor(1763.8848)\n"
          ],
          "name": "stdout"
        }
      ]
    },
    {
      "cell_type": "code",
      "metadata": {
        "id": "ozEHjHqMaeFQ"
      },
      "source": [
        "#delta에 따른 차이는?\n",
        "delta = 0.1\n",
        "loss_rate_of_change_w = (loss_fn(model(t_u, w+delta, b), t_c) - loss_fn(model(t_u, w-delta, b), t_c)) / (2.0*delta)\n",
        "loss_rate_of_change_b = (loss_fn(model(t_u, w, b+delta), t_c) - loss_fn(model(t_u, w, b-delta), t_c)) / (2.0*delta)"
      ],
      "execution_count": 8,
      "outputs": []
    },
    {
      "cell_type": "code",
      "metadata": {
        "id": "jU5AHqoebMri"
      },
      "source": [
        "learning_rate = 1e-2\n",
        "w = w - learning_rate * loss_rate_of_change_w\n",
        "b = b - learning_rate * loss_rate_of_change_b"
      ],
      "execution_count": 9,
      "outputs": []
    },
    {
      "cell_type": "markdown",
      "metadata": {
        "id": "Lz6kWkFkcq2s"
      },
      "source": [
        "#*the gradient*\n",
        "compute the individual derivatives of the loss with respect to each parameter and put them in a vector of defivatives: the gradient."
      ]
    },
    {
      "cell_type": "code",
      "metadata": {
        "id": "nJQhjb-Icssh"
      },
      "source": [
        "def dloss_fn(t_p, t_c):\n",
        "    dsq_diffs = 2*(t_p-t_c) / t_p.size(0)\n",
        "    return dsq_diffs\n",
        "def dmodel_dw(t_u, w, b):\n",
        "    return t_u\n",
        "def dmodel_db(t_u, w, b):\n",
        "    return 1.0\n",
        "def grad_fn(t_u, t_c, t_p, w, b):\n",
        "    dloss_dtp = dloss_fn(t_p, t_c)\n",
        "    dloss_dw = dloss_dtp * dmodel_dw(t_u, w, b)\n",
        "    dloss_db = dloss_dtp * dmodel_db(t_u, w, b)\n",
        "    return torch.stack([dloss_dw.sum(), dloss_db.sum()])#what is this stack function?\n",
        "\n"
      ],
      "execution_count": 12,
      "outputs": []
    },
    {
      "cell_type": "code",
      "metadata": {
        "id": "xO1obRQDecz2"
      },
      "source": [
        "def training_loop(n_epochs, learning_rate, params, t_u, t_c):\n",
        "    for epoch in range(1, n_epochs + 1):\n",
        "        w,b = params\n",
        "        t_p = model(t_u, w, b)\n",
        "        loss = loss_fn(t_p, t_c)\n",
        "        grad = grad_fn(t_u, t_c, t_p, w, b)\n",
        "\n",
        "        params = params - learning_rate * grad\n",
        "\n",
        "        #print(\"Epoch %d, Loss %f\" % (epoch, float(loss)))\n",
        "    return params\n",
        "\n"
      ],
      "execution_count": 22,
      "outputs": []
    },
    {
      "cell_type": "code",
      "metadata": {
        "colab": {
          "base_uri": "https://localhost:8080/"
        },
        "id": "_0EU1JcyfbnF",
        "outputId": "6340c854-7b52-4443-a3fe-9a1860711dc3"
      },
      "source": [
        "training_loop(n_epochs = 100, learning_rate = 1e-2, params = torch.tensor([1.0, 0.0]), t_u = t_u, t_c = t_c)\n",
        "#망..."
      ],
      "execution_count": 26,
      "outputs": [
        {
          "output_type": "execute_result",
          "data": {
            "text/plain": [
              "tensor([nan, nan])"
            ]
          },
          "metadata": {
            "tags": []
          },
          "execution_count": 26
        }
      ]
    },
    {
      "cell_type": "code",
      "metadata": {
        "colab": {
          "base_uri": "https://localhost:8080/"
        },
        "id": "FvlIspOdgD-s",
        "outputId": "3614c63f-e899-45cf-fb8f-609a2fe2400d"
      },
      "source": [
        "training_loop(n_epochs = 100, learning_rate = 1e-4, params = torch.tensor([1.0, 0.0]), t_u = t_u, t_c = t_c)\n"
      ],
      "execution_count": 25,
      "outputs": [
        {
          "output_type": "execute_result",
          "data": {
            "text/plain": [
              "tensor([ 0.2327, -0.0438])"
            ]
          },
          "metadata": {
            "tags": []
          },
          "execution_count": 25
        }
      ]
    },
    {
      "cell_type": "markdown",
      "metadata": {
        "id": "4GlCn9tchg8k"
      },
      "source": [
        "#changing the inputs so that the gradients aren't quite so different"
      ]
    },
    {
      "cell_type": "code",
      "metadata": {
        "id": "CESg3VJEhmea"
      },
      "source": [
        "t_un = 0.1 * t_u#normalized --> t_u + n"
      ],
      "execution_count": 17,
      "outputs": []
    },
    {
      "cell_type": "code",
      "metadata": {
        "colab": {
          "base_uri": "https://localhost:8080/"
        },
        "id": "mkqW50V1hwfg",
        "outputId": "8da0475c-4ccb-4126-830e-fa69272d63ae"
      },
      "source": [
        "training_loop(n_epochs = 100, learning_rate = 1e-2, params = torch.tensor([1.0, 0.0]), t_u = t_un, t_c = t_c)\n"
      ],
      "execution_count": 24,
      "outputs": [
        {
          "output_type": "execute_result",
          "data": {
            "text/plain": [
              "tensor([ 2.7553, -2.5162])"
            ]
          },
          "metadata": {
            "tags": []
          },
          "execution_count": 24
        }
      ]
    },
    {
      "cell_type": "markdown",
      "metadata": {
        "id": "bNc86uQ6iHnr"
      },
      "source": [
        "#epoch up"
      ]
    },
    {
      "cell_type": "code",
      "metadata": {
        "id": "1dqBFSJZiJNz"
      },
      "source": [
        "params = training_loop(n_epochs = 5000, learning_rate = 1e-2, params = torch.tensor([1.0, 0.0]), t_u = t_un, t_c = t_c)\n",
        "#nice"
      ],
      "execution_count": 31,
      "outputs": []
    },
    {
      "cell_type": "markdown",
      "metadata": {
        "id": "-z11Aspqi3E-"
      },
      "source": [
        "#visualizing"
      ]
    },
    {
      "cell_type": "code",
      "metadata": {
        "id": "bMdrBRiHi4UL"
      },
      "source": [
        "%matplotlib inline\n",
        "from matplotlib import pyplot as plt"
      ],
      "execution_count": 40,
      "outputs": []
    },
    {
      "cell_type": "code",
      "metadata": {
        "colab": {
          "base_uri": "https://localhost:8080/",
          "height": 363
        },
        "id": "Uc-wgygnjCIL",
        "outputId": "decf1241-89e6-486b-e2cf-713a367d4802"
      },
      "source": [
        "t_p = model(t_un, *params)#unpacking\n",
        "fig = plt.figure(dpi = 90)#이게 뭐고/size maybe\n",
        "plt.xlabel(\"Temperature (Fahrenheit)\")\n",
        "plt.ylabel(\"Temperature (Celcius)\")\n",
        "plt.plot(t_u.numpy(), t_p.detach().numpy())#result\n",
        "plt.plot(t_u.numpy(), t_c.numpy(), 'o')#inputs"
      ],
      "execution_count": 47,
      "outputs": [
        {
          "output_type": "execute_result",
          "data": {
            "text/plain": [
              "[<matplotlib.lines.Line2D at 0x7fdeef0e7c50>]"
            ]
          },
          "metadata": {
            "tags": []
          },
          "execution_count": 47
        },
        {
          "output_type": "display_data",
          "data": {
            "image/png": "[encoded data removed]",
            "text/plain": [
              "<Figure size 540x360 with 1 Axes>"
            ]
          },
          "metadata": {
            "tags": [],
            "needs_background": "light"
          }
        }
      ]
    },
    {
      "cell_type": "markdown",
      "metadata": {
        "id": "TbkZwdQ1nJR1"
      },
      "source": [
        "#Autograd"
      ]
    },
    {
      "cell_type": "code",
      "metadata": {
        "id": "07lu2pvik786"
      },
      "source": [
        "params = torch.tensor([1.0, 0.0], requires_grad = True)\n",
        "#requires_grad = True: track the entire family tree of tensors resulting \n",
        "#from operations on parmas."
      ],
      "execution_count": 53,
      "outputs": []
    },
    {
      "cell_type": "code",
      "metadata": {
        "colab": {
          "base_uri": "https://localhost:8080/"
        },
        "id": "Zo9Mfcsynw73",
        "outputId": "83761006-19e9-4987-a2b6-71ac5479cc2a"
      },
      "source": [
        "params.grad is None"
      ],
      "execution_count": 50,
      "outputs": [
        {
          "output_type": "execute_result",
          "data": {
            "text/plain": [
              "True"
            ]
          },
          "metadata": {
            "tags": []
          },
          "execution_count": 50
        }
      ]
    },
    {
      "cell_type": "code",
      "metadata": {
        "colab": {
          "base_uri": "https://localhost:8080/"
        },
        "id": "wV-zq5Trn64y",
        "outputId": "65b79bff-a631-4bb6-8221-48e383d2b437"
      },
      "source": [
        "loss = loss_fn(model(t_u, *params), t_c)\n",
        "loss.backward()\n",
        "\n",
        "params.grad"
      ],
      "execution_count": 54,
      "outputs": [
        {
          "output_type": "execute_result",
          "data": {
            "text/plain": [
              "tensor([4517.2969,   82.6000])"
            ]
          },
          "metadata": {
            "tags": []
          },
          "execution_count": 54
        }
      ]
    }
  ]
}