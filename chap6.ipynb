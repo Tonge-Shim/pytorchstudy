{
  "nbformat": 4,
  "nbformat_minor": 0,
  "metadata": {
    "colab": {
      "name": "chap6.ipynb",
      "provenance": [],
      "mount_file_id": "1ORnv1sqwr_Gd0MbhNf5anZ5dvgJxQyIS",
      "authorship_tag": "ABX9TyOQrww9uxDirff1QWJzcGRk",
      "include_colab_link": true
    },
    "kernelspec": {
      "name": "python3",
      "display_name": "Python 3"
    },
    "language_info": {
      "name": "python"
    }
  },
  "cells": [
    {
      "cell_type": "markdown",
      "metadata": {
        "id": "view-in-github",
        "colab_type": "text"
      },
      "source": [
        "<a href=\"https://colab.research.google.com/github/Tonge-Shim/pytorchstudy/blob/main/chap6.ipynb\" target=\"_parent\"><img src=\"https://colab.research.google.com/assets/colab-badge.svg\" alt=\"Open In Colab\"/></a>"
      ]
    },
    {
      "cell_type": "markdown",
      "metadata": {
        "id": "2ZTiIoXASDDY"
      },
      "source": [
        "#torch.nn\n",
        "accepts 3 arguments:\n",
        "> number of input features\n",
        "\n",
        "> number of output features\n",
        "\n",
        "> whether the linear model includes a bias or not(defaultinge to True)"
      ]
    },
    {
      "cell_type": "code",
      "metadata": {
        "id": "udjFEq1ZTlGK"
      },
      "source": [
        "%matplotlib inline\n",
        "import numpy as np\n",
        "import torch\n",
        "import torch.optim as optim\n",
        "torch.set_printoptions(edgeitems=2, linewidth=75)\n"
      ],
      "execution_count": 11,
      "outputs": []
    },
    {
      "cell_type": "markdown",
      "metadata": {
        "id": "-4E_jvxNaGjB"
      },
      "source": [
        "we reshape out B inputs to B*Nin, where Nin is 1 and this is easily done with unsqueeze."
      ]
    },
    {
      "cell_type": "code",
      "metadata": {
        "colab": {
          "base_uri": "https://localhost:8080/"
        },
        "id": "LlLDcNNPTq1Q",
        "outputId": "5d3f7b52-d54d-4db4-f997-f24ccd151388"
      },
      "source": [
        "t_c = [0.5,  14.0, 15.0, 28.0, 11.0,  8.0,  3.0, -4.0,  6.0, 13.0, 21.0]\n",
        "t_u = [35.7, 55.9, 58.2, 81.9, 56.3, 48.9, 33.9, 21.8, 48.4, 60.4, 68.4]\n",
        "t_c = torch.tensor(t_c).unsqueeze(1) # <1>\n",
        "t_u = torch.tensor(t_u).unsqueeze(1) # <1>\n",
        "\n",
        "t_u.shape"
      ],
      "execution_count": 12,
      "outputs": [
        {
          "output_type": "execute_result",
          "data": {
            "text/plain": [
              "torch.Size([11, 1])"
            ]
          },
          "metadata": {
            "tags": []
          },
          "execution_count": 12
        }
      ]
    },
    {
      "cell_type": "code",
      "metadata": {
        "colab": {
          "base_uri": "https://localhost:8080/"
        },
        "id": "SPS0rinUTv3j",
        "outputId": "65e7694a-57f9-4b0d-f44a-ddcace621059"
      },
      "source": [
        "\n",
        "n_samples = t_u.shape[0]\n",
        "n_val = int(0.2 * n_samples)\n",
        "\n",
        "shuffled_indices = torch.randperm(n_samples)\n",
        "\n",
        "train_indices = shuffled_indices[:-n_val]\n",
        "val_indices = shuffled_indices[-n_val:]\n",
        "\n",
        "train_indices, val_indices"
      ],
      "execution_count": 13,
      "outputs": [
        {
          "output_type": "execute_result",
          "data": {
            "text/plain": [
              "(tensor([8, 1, 2, 6, 9, 7, 0, 4, 3]), tensor([10,  5]))"
            ]
          },
          "metadata": {
            "tags": []
          },
          "execution_count": 13
        }
      ]
    },
    {
      "cell_type": "code",
      "metadata": {
        "id": "yvn6bQhXTyqG"
      },
      "source": [
        "t_u_train = t_u[train_indices]\n",
        "t_c_train = t_c[train_indices]\n",
        "\n",
        "t_u_val = t_u[val_indices]\n",
        "t_c_val = t_c[val_indices]\n",
        "\n",
        "t_un_train = 0.1 * t_u_train\n",
        "t_un_val = 0.1 * t_u_val"
      ],
      "execution_count": 14,
      "outputs": []
    },
    {
      "cell_type": "code",
      "metadata": {
        "id": "eSMsOir6Sdr4"
      },
      "source": [
        "import torch.nn as nn"
      ],
      "execution_count": 4,
      "outputs": []
    },
    {
      "cell_type": "code",
      "metadata": {
        "colab": {
          "base_uri": "https://localhost:8080/"
        },
        "id": "RUnATeB2Skks",
        "outputId": "b36aa058-92d0-4913-8320-7421fe5cbcf4"
      },
      "source": [
        "linear_model = nn.Linear(1,1)\n",
        "linear_model(t_un_val)"
      ],
      "execution_count": 15,
      "outputs": [
        {
          "output_type": "execute_result",
          "data": {
            "text/plain": [
              "tensor([[0.8293],\n",
              "        [0.4661]], grad_fn=<AddmmBackward>)"
            ]
          },
          "metadata": {
            "tags": []
          },
          "execution_count": 15
        }
      ]
    },
    {
      "cell_type": "code",
      "metadata": {
        "colab": {
          "base_uri": "https://localhost:8080/"
        },
        "id": "v6tdyhRAUDA9",
        "outputId": "bbf23f0b-4651-435c-ef19-2a713ef35e27"
      },
      "source": [
        "print(linear_model.weight)\n",
        "print(linear_model.bias)"
      ],
      "execution_count": 17,
      "outputs": [
        {
          "output_type": "stream",
          "text": [
            "Parameter containing:\n",
            "tensor([[0.1863]], requires_grad=True)\n",
            "Parameter containing:\n",
            "tensor([-0.4448], requires_grad=True)\n"
          ],
          "name": "stdout"
        }
      ]
    },
    {
      "cell_type": "code",
      "metadata": {
        "colab": {
          "base_uri": "https://localhost:8080/"
        },
        "id": "DV7XJSxnUTlO",
        "outputId": "5dfb5a46-fc11-4269-f356-01ec83089a2f"
      },
      "source": [
        "x = torch.ones(1)\n",
        "linear_model(x)"
      ],
      "execution_count": 19,
      "outputs": [
        {
          "output_type": "execute_result",
          "data": {
            "text/plain": [
              "tensor([-0.2585], grad_fn=<AddBackward0>)"
            ]
          },
          "metadata": {
            "tags": []
          },
          "execution_count": 19
        }
      ]
    },
    {
      "cell_type": "markdown",
      "metadata": {
        "id": "r-NZ6rHeXe5b"
      },
      "source": [
        "#Batching Inputs\n",
        "> any module in nn is written to produce outputs for a batch of multiple inputs at eh same time."
      ]
    },
    {
      "cell_type": "code",
      "metadata": {
        "colab": {
          "base_uri": "https://localhost:8080/"
        },
        "id": "x9-l7uFaXvYL",
        "outputId": "f559e295-8fae-4b60-8977-ff2058480025"
      },
      "source": [
        "x = torch.ones(10, 1)\n",
        "linear_model(x)"
      ],
      "execution_count": 20,
      "outputs": [
        {
          "output_type": "execute_result",
          "data": {
            "text/plain": [
              "tensor([[-0.2585],\n",
              "        [-0.2585],\n",
              "        [-0.2585],\n",
              "        [-0.2585],\n",
              "        [-0.2585],\n",
              "        [-0.2585],\n",
              "        [-0.2585],\n",
              "        [-0.2585],\n",
              "        [-0.2585],\n",
              "        [-0.2585]], grad_fn=<AddmmBackward>)"
            ]
          },
          "metadata": {
            "tags": []
          },
          "execution_count": 20
        }
      ]
    },
    {
      "cell_type": "markdown",
      "metadata": {
        "id": "e632p3CWbvMF"
      },
      "source": [
        "pass the linear model parameters to the optimizer using `paramters` method"
      ]
    },
    {
      "cell_type": "code",
      "metadata": {
        "id": "FjMyTWPPbx_q"
      },
      "source": [
        "linear_model = nn.Linear(1,1)\n",
        "optimizer = optim.SGD(linear_model.parameters(), # this method call replaces [params]\n",
        "                      lr = 1e-2)"
      ],
      "execution_count": 33,
      "outputs": []
    },
    {
      "cell_type": "code",
      "metadata": {
        "colab": {
          "base_uri": "https://localhost:8080/"
        },
        "id": "jIBSfuoucHmq",
        "outputId": "879dcf2e-625e-4394-a0fc-5fc90c7d3485"
      },
      "source": [
        "linear_model.parameters()"
      ],
      "execution_count": 29,
      "outputs": [
        {
          "output_type": "execute_result",
          "data": {
            "text/plain": [
              "<generator object Module.parameters at 0x7f8a79eabdd0>"
            ]
          },
          "metadata": {
            "tags": []
          },
          "execution_count": 29
        }
      ]
    },
    {
      "cell_type": "code",
      "metadata": {
        "colab": {
          "base_uri": "https://localhost:8080/"
        },
        "id": "DYM7NgM5cNjk",
        "outputId": "ccfa9189-2f0a-4d6a-85e2-f86900bd6c2b"
      },
      "source": [
        "list(linear_model.parameters())"
      ],
      "execution_count": 30,
      "outputs": [
        {
          "output_type": "execute_result",
          "data": {
            "text/plain": [
              "[Parameter containing:\n",
              " tensor([[-0.6391]], requires_grad=True), Parameter containing:\n",
              " tensor([0.8868], requires_grad=True)]"
            ]
          },
          "metadata": {
            "tags": []
          },
          "execution_count": 30
        }
      ]
    },
    {
      "cell_type": "markdown",
      "metadata": {
        "id": "R5iC2EPrfuXz"
      },
      "source": [
        "#change\n",
        "> it hasn't changed practically at all, except that now we don't pass `params` explicitly to `model` since the model itself holds its Parameters internally."
      ]
    },
    {
      "cell_type": "code",
      "metadata": {
        "id": "M6djuZI8c_Qz"
      },
      "source": [
        "def training_loop(n_epochs, optimizer, model, loss_fn, t_u_train, t_u_val, t_c_train, t_c_val):\n",
        "    for epoch in range(1, n_epochs + 1):\n",
        "        t_p_train = model(t_u_train)\n",
        "        loss_train = loss_fn(t_p_train, t_c_train)\n",
        "\n",
        "        t_p_val = model(t_u_val)\n",
        "        loss_val = loss_fn(t_p_val, t_c_val)\n",
        "\n",
        "        optimizer.zero_grad()\n",
        "        loss_train.backward()\n",
        "        optimizer.step()\n",
        "\n",
        "        if epoch == 1 or epoch % 1000 == 0:\n",
        "            print(f\"Epoch {epoch}, Training loss {loss_train.item():.4f},\"f\"Validation loss {loss_val.item():.4f}\")"
      ],
      "execution_count": 31,
      "outputs": []
    },
    {
      "cell_type": "code",
      "metadata": {
        "colab": {
          "base_uri": "https://localhost:8080/"
        },
        "id": "GM3cgTxTgc6f",
        "outputId": "b4c25fb8-f9b7-4de0-d56e-95570623742d"
      },
      "source": [
        "print(linear_model.weight)\n",
        "print(linear_model.bias)\n",
        "print()\n",
        "training_loop(\n",
        "    n_epochs = 3000,\n",
        "    optimizer = optimizer,\n",
        "    model = linear_model,\n",
        "    loss_fn = nn.MSELoss(),\n",
        "    t_u_train = t_un_train, \n",
        "    t_u_val = t_un_val,\n",
        "    t_c_train = t_c_train,\n",
        "    t_c_val = t_c_val\n",
        ")\n",
        "print()\n",
        "print(linear_model.weight)\n",
        "print(linear_model.bias)"
      ],
      "execution_count": 34,
      "outputs": [
        {
          "output_type": "stream",
          "text": [
            "Parameter containing:\n",
            "tensor([[0.3463]], requires_grad=True)\n",
            "Parameter containing:\n",
            "tensor([0.2442], requires_grad=True)\n",
            "\n",
            "Epoch 1, Training loss 128.8181,Validation loss 187.4153\n",
            "Epoch 1000, Training loss 3.7775,Validation loss 3.7068\n",
            "Epoch 2000, Training loss 3.1665,Validation loss 2.3533\n",
            "Epoch 3000, Training loss 3.1539,Validation loss 2.1840\n",
            "\n",
            "Parameter containing:\n",
            "tensor([[5.2394]], requires_grad=True)\n",
            "Parameter containing:\n",
            "tensor([-16.7264], requires_grad=True)\n"
          ],
          "name": "stdout"
        }
      ]
    },
    {
      "cell_type": "markdown",
      "metadata": {
        "id": "CSatNh1-hYGs"
      },
      "source": [
        "#replacing our linear model with a neural network as our approximating function\n",
        "> `nn` provides a simple way to concatenate modules through the `nn.Sequential` container"
      ]
    },
    {
      "cell_type": "code",
      "metadata": {
        "colab": {
          "base_uri": "https://localhost:8080/"
        },
        "id": "0cDji3Gpg3VA",
        "outputId": "9495a129-c14c-4088-9162-79cbffbce873"
      },
      "source": [
        "seq_model = nn.Sequential(\n",
        "    nn.Linear(1,13),#13 hidden features\n",
        "    nn.Tanh(),\n",
        "    nn.Linear(13,1))\n",
        "seq_model"
      ],
      "execution_count": 35,
      "outputs": [
        {
          "output_type": "execute_result",
          "data": {
            "text/plain": [
              "Sequential(\n",
              "  (0): Linear(in_features=1, out_features=13, bias=True)\n",
              "  (1): Tanh()\n",
              "  (2): Linear(in_features=13, out_features=1, bias=True)\n",
              ")"
            ]
          },
          "metadata": {
            "tags": []
          },
          "execution_count": 35
        }
      ]
    },
    {
      "cell_type": "markdown",
      "metadata": {
        "id": "6yUARVugkGWd"
      },
      "source": [
        "calling model.parameters() will collect weight and bias from both the first and second linear modules. "
      ]
    },
    {
      "cell_type": "code",
      "metadata": {
        "colab": {
          "base_uri": "https://localhost:8080/"
        },
        "id": "mOczZHn1lAL1",
        "outputId": "29c2f0bf-58b5-45f0-b500-e63027fdedc5"
      },
      "source": [
        "[param.shape for param in seq_model.parameters()]"
      ],
      "execution_count": 36,
      "outputs": [
        {
          "output_type": "execute_result",
          "data": {
            "text/plain": [
              "[torch.Size([13, 1]), torch.Size([13]), torch.Size([1, 13]), torch.Size([1])]"
            ]
          },
          "metadata": {
            "tags": []
          },
          "execution_count": 36
        }
      ]
    },
    {
      "cell_type": "markdown",
      "metadata": {
        "id": "OEJE1z4DlvCR"
      },
      "source": [
        "`named_parameters`"
      ]
    },
    {
      "cell_type": "code",
      "metadata": {
        "colab": {
          "base_uri": "https://localhost:8080/"
        },
        "id": "TkMKEwFDlydE",
        "outputId": "ed004451-f472-4458-b4c7-9ebf51266d34"
      },
      "source": [
        "for name, param in seq_model.named_parameters():\n",
        "    print(name, param.shape)"
      ],
      "execution_count": 37,
      "outputs": [
        {
          "output_type": "stream",
          "text": [
            "0.weight torch.Size([13, 1])\n",
            "0.bias torch.Size([13])\n",
            "2.weight torch.Size([1, 13])\n",
            "2.bias torch.Size([1])\n"
          ],
          "name": "stdout"
        }
      ]
    },
    {
      "cell_type": "markdown",
      "metadata": {
        "id": "RBbV1RP7mEsR"
      },
      "source": [
        "Sequential also accepts an `OrderedDict`, in which we can name each module passed to Sequential"
      ]
    },
    {
      "cell_type": "code",
      "metadata": {
        "colab": {
          "base_uri": "https://localhost:8080/"
        },
        "id": "QRopdXEJmNaZ",
        "outputId": "6334a7aa-1017-4829-ac87-edc2886250ed"
      },
      "source": [
        "from collections import OrderedDict\n",
        "seq_model = nn.Sequential(OrderedDict([\n",
        "                                       ('hidden_linear', nn.Linear(1,8)),\n",
        "                                       ('hidden_activation', nn.Tanh()),\n",
        "                                       ('output_linear', nn.Linear(8,1))\n",
        "]))\n",
        "seq_model"
      ],
      "execution_count": 53,
      "outputs": [
        {
          "output_type": "execute_result",
          "data": {
            "text/plain": [
              "Sequential(\n",
              "  (hidden_linear): Linear(in_features=1, out_features=8, bias=True)\n",
              "  (hidden_activation): Tanh()\n",
              "  (output_linear): Linear(in_features=8, out_features=1, bias=True)\n",
              ")"
            ]
          },
          "metadata": {
            "tags": []
          },
          "execution_count": 53
        }
      ]
    },
    {
      "cell_type": "code",
      "metadata": {
        "colab": {
          "base_uri": "https://localhost:8080/"
        },
        "id": "CmcYKHUCmzO-",
        "outputId": "2eb0d281-9251-4a69-dc71-f741ee9b70bc"
      },
      "source": [
        "for name, param in seq_model.named_parameters():\n",
        "    print(name, param.shape)"
      ],
      "execution_count": 54,
      "outputs": [
        {
          "output_type": "stream",
          "text": [
            "hidden_linear.weight torch.Size([8, 1])\n",
            "hidden_linear.bias torch.Size([8])\n",
            "output_linear.weight torch.Size([1, 8])\n",
            "output_linear.bias torch.Size([1])\n"
          ],
          "name": "stdout"
        }
      ]
    },
    {
      "cell_type": "code",
      "metadata": {
        "colab": {
          "base_uri": "https://localhost:8080/"
        },
        "id": "Vvvz2A56oqnK",
        "outputId": "a5970e21-3aec-497e-8a74-de6f06663f2f"
      },
      "source": [
        "#access a particular parameter\n",
        "seq_model.output_linear.bias"
      ],
      "execution_count": 55,
      "outputs": [
        {
          "output_type": "execute_result",
          "data": {
            "text/plain": [
              "Parameter containing:\n",
              "tensor([-0.0408], requires_grad=True)"
            ]
          },
          "metadata": {
            "tags": []
          },
          "execution_count": 55
        }
      ]
    },
    {
      "cell_type": "code",
      "metadata": {
        "colab": {
          "base_uri": "https://localhost:8080/"
        },
        "id": "k6MuyGyOo4ol",
        "outputId": "b34a87ec-f8d9-43c3-e671-69d7f4dfaa0d"
      },
      "source": [
        "optimizer = optim.SGD(seq_model.parameters(), lr = 1e-3)\n",
        "\n",
        "training_loop(\n",
        "    n_epochs = 5000,\n",
        "    optimizer = optimizer,\n",
        "    model = seq_model,\n",
        "    loss_fn = nn.MSELoss(),\n",
        "    t_u_train = t_un_train,\n",
        "    t_u_val = t_un_val,\n",
        "    t_c_train = t_c_train,\n",
        "    t_c_val = t_c_val)\n",
        "\n",
        "print('output', seq_model(t_un_val))\n",
        "print('answer', t_c_val)\n",
        "print('hidden', seq_model.hidden_linear.weight.grad)"
      ],
      "execution_count": 56,
      "outputs": [
        {
          "output_type": "stream",
          "text": [
            "Epoch 1, Training loss 166.5052,Validation loss 242.8537\n",
            "Epoch 1000, Training loss 7.1406,Validation loss 4.3493\n",
            "Epoch 2000, Training loss 5.3028,Validation loss 1.2474\n",
            "Epoch 3000, Training loss 3.0931,Validation loss 0.2631\n",
            "Epoch 4000, Training loss 2.4078,Validation loss 0.0576\n",
            "Epoch 5000, Training loss 2.2117,Validation loss 0.0504\n",
            "output tensor([[20.4123],\n",
            "        [ 7.3119]], grad_fn=<AddmmBackward>)\n",
            "answer tensor([[21.],\n",
            "        [ 8.]])\n",
            "hidden tensor([[-0.2713],\n",
            "        [-0.2234],\n",
            "        [ 6.7169],\n",
            "        [ 6.3411],\n",
            "        [ 6.2781],\n",
            "        [ 0.1084],\n",
            "        [ 0.2873],\n",
            "        [ 6.6093]])\n"
          ],
          "name": "stdout"
        }
      ]
    },
    {
      "cell_type": "markdown",
      "metadata": {
        "id": "pso3R75kpyhI"
      },
      "source": [
        "evaluate the model on all of the data and see how it differs from a line"
      ]
    },
    {
      "cell_type": "code",
      "metadata": {
        "colab": {
          "base_uri": "https://localhost:8080/",
          "height": 399
        },
        "id": "Xterid35p2yU",
        "outputId": "b8ce1a75-8b8e-4f24-a440-1b7eec564303"
      },
      "source": [
        "from matplotlib import pyplot as plt\n",
        "t_range = torch.arange(20., 90.).unsqueeze(1)\n",
        "fig = plt.figure(dpi = 100)\n",
        "plt.xlabel(\"Fahrenheit\")\n",
        "plt.ylabel(\"Celcius\")\n",
        "plt.plot(t_u.numpy(), t_c.numpy(), 'o')\n",
        "plt.plot(t_range.numpy(), seq_model(0.1 * t_range).detach().numpy(), 'c-')\n",
        "plt.plot(t_u.numpy(), seq_model(0.1 * t_u).detach().numpy(), 'kx')"
      ],
      "execution_count": 57,
      "outputs": [
        {
          "output_type": "execute_result",
          "data": {
            "text/plain": [
              "[<matplotlib.lines.Line2D at 0x7f8a73f6c550>]"
            ]
          },
          "metadata": {
            "tags": []
          },
          "execution_count": 57
        },
        {
          "output_type": "display_data",
          "data": {
            "image/png": "[encoded data removed]",
            "text/plain": [
              "<Figure size 600x400 with 1 Axes>"
            ]
          },
          "metadata": {
            "tags": [],
            "needs_background": "light"
          }
        }
      ]
    },
    {
      "cell_type": "markdown",
      "metadata": {
        "id": "f2VBMjFZrabD"
      },
      "source": [
        "the neural network has a tendency to overfit, seince it tries to chase the measurements, including the noisy ones."
      ]
    },
    {
      "cell_type": "markdown",
      "metadata": {
        "id": "Z8NtqGqarq-a"
      },
      "source": [
        "#Exercise"
      ]
    },
    {
      "cell_type": "code",
      "metadata": {
        "id": "qKrpB6sVrsUl"
      },
      "source": [
        "import csv"
      ],
      "execution_count": 58,
      "outputs": []
    },
    {
      "cell_type": "code",
      "metadata": {
        "colab": {
          "base_uri": "https://localhost:8080/"
        },
        "id": "S1huMlhRtiJt",
        "outputId": "74d2a70e-2199-4d11-db6c-3104122dee05"
      },
      "source": [
        "wine_path = \"/content/drive/MyDrive/DLWP/p1ch4/tabular-wine/winequality-white.csv\"\n",
        "wineq_numpy = np.loadtxt(wine_path, dtype = np.float32, delimiter = ';', skiprows = 1)\n",
        "wineq_numpy\n"
      ],
      "execution_count": 60,
      "outputs": [
        {
          "output_type": "execute_result",
          "data": {
            "text/plain": [
              "array([[ 7.  ,  0.27,  0.36, ...,  0.45,  8.8 ,  6.  ],\n",
              "       [ 6.3 ,  0.3 ,  0.34, ...,  0.49,  9.5 ,  6.  ],\n",
              "       [ 8.1 ,  0.28,  0.4 , ...,  0.44, 10.1 ,  6.  ],\n",
              "       ...,\n",
              "       [ 6.5 ,  0.24,  0.19, ...,  0.46,  9.4 ,  6.  ],\n",
              "       [ 5.5 ,  0.29,  0.3 , ...,  0.38, 12.8 ,  7.  ],\n",
              "       [ 6.  ,  0.21,  0.38, ...,  0.32, 11.8 ,  6.  ]], dtype=float32)"
            ]
          },
          "metadata": {
            "tags": []
          },
          "execution_count": 60
        }
      ]
    },
    {
      "cell_type": "code",
      "metadata": {
        "colab": {
          "base_uri": "https://localhost:8080/"
        },
        "id": "ym3q6UuyuRCO",
        "outputId": "a3607bd5-7507-4215-a832-f2e6d68c0385"
      },
      "source": [
        "col_list = next(csv.reader(open(wine_path), delimiter = ';'))\n",
        "wineq_numpy.shape, col_list"
      ],
      "execution_count": 61,
      "outputs": [
        {
          "output_type": "execute_result",
          "data": {
            "text/plain": [
              "((4898, 12),\n",
              " ['fixed acidity',\n",
              "  'volatile acidity',\n",
              "  'citric acid',\n",
              "  'residual sugar',\n",
              "  'chlorides',\n",
              "  'free sulfur dioxide',\n",
              "  'total sulfur dioxide',\n",
              "  'density',\n",
              "  'pH',\n",
              "  'sulphates',\n",
              "  'alcohol',\n",
              "  'quality'])"
            ]
          },
          "metadata": {
            "tags": []
          },
          "execution_count": 61
        }
      ]
    },
    {
      "cell_type": "code",
      "metadata": {
        "colab": {
          "base_uri": "https://localhost:8080/"
        },
        "id": "AiSpFkOFuczn",
        "outputId": "7e7fa6e2-9269-43e3-fa07-abb024092ae4"
      },
      "source": [
        "wineq = torch.from_numpy(wineq_numpy)\n",
        "wineq.shape, wineq.dtype"
      ],
      "execution_count": 62,
      "outputs": [
        {
          "output_type": "execute_result",
          "data": {
            "text/plain": [
              "(torch.Size([4898, 12]), torch.float32)"
            ]
          },
          "metadata": {
            "tags": []
          },
          "execution_count": 62
        }
      ]
    },
    {
      "cell_type": "code",
      "metadata": {
        "colab": {
          "base_uri": "https://localhost:8080/"
        },
        "id": "mi6qt_HUul3Z",
        "outputId": "34e3804a-5674-4f05-981e-cf3ca5764517"
      },
      "source": [
        "data = wineq[:, :-1]\n",
        "data, data.shape"
      ],
      "execution_count": 63,
      "outputs": [
        {
          "output_type": "execute_result",
          "data": {
            "text/plain": [
              "(tensor([[ 7.0000,  0.2700,  ...,  0.4500,  8.8000],\n",
              "         [ 6.3000,  0.3000,  ...,  0.4900,  9.5000],\n",
              "         ...,\n",
              "         [ 5.5000,  0.2900,  ...,  0.3800, 12.8000],\n",
              "         [ 6.0000,  0.2100,  ...,  0.3200, 11.8000]]), torch.Size([4898, 11]))"
            ]
          },
          "metadata": {
            "tags": []
          },
          "execution_count": 63
        }
      ]
    },
    {
      "cell_type": "code",
      "metadata": {
        "colab": {
          "base_uri": "https://localhost:8080/"
        },
        "id": "S9iiirlVuq9-",
        "outputId": "0425e4aa-e436-48f6-fc3f-826d6a1c7eaf"
      },
      "source": [
        "target = wineq[:, -1]\n",
        "target, target.shape\n",
        "\n",
        "target"
      ],
      "execution_count": 77,
      "outputs": [
        {
          "output_type": "execute_result",
          "data": {
            "text/plain": [
              "tensor([6., 6.,  ..., 7., 6.])"
            ]
          },
          "metadata": {
            "tags": []
          },
          "execution_count": 77
        }
      ]
    },
    {
      "cell_type": "code",
      "metadata": {
        "colab": {
          "base_uri": "https://localhost:8080/"
        },
        "id": "lUId2jxKvC7t",
        "outputId": "23b3c8a8-87e9-468a-8ef3-b14b1d0effee"
      },
      "source": [
        "t_u = target.unsqueeze(1)\n",
        "t_u"
      ],
      "execution_count": 78,
      "outputs": [
        {
          "output_type": "execute_result",
          "data": {
            "text/plain": [
              "tensor([[6.],\n",
              "        [6.],\n",
              "        ...,\n",
              "        [7.],\n",
              "        [6.]])"
            ]
          },
          "metadata": {
            "tags": []
          },
          "execution_count": 78
        }
      ]
    },
    {
      "cell_type": "code",
      "metadata": {
        "colab": {
          "base_uri": "https://localhost:8080/"
        },
        "id": "5D9xOpNwwSaH",
        "outputId": "4a487c62-4776-4daa-809a-c68510f16771"
      },
      "source": [
        "data_mean = torch.mean(data, dim = 0)\n",
        "data_var = torch.var(data, dim = 0)\n",
        "data_n = (data-data_mean)/torch.sqrt(data_var)#normalize\n",
        "data_n"
      ],
      "execution_count": 79,
      "outputs": [
        {
          "output_type": "execute_result",
          "data": {
            "text/plain": [
              "tensor([[ 1.7208e-01, -8.1761e-02,  ..., -3.4915e-01, -1.3930e+00],\n",
              "        [-6.5743e-01,  2.1587e-01,  ...,  1.3422e-03, -8.2419e-01],\n",
              "        ...,\n",
              "        [-1.6054e+00,  1.1666e-01,  ..., -9.6251e-01,  1.8574e+00],\n",
              "        [-1.0129e+00, -6.7703e-01,  ..., -1.4882e+00,  1.0448e+00]])"
            ]
          },
          "metadata": {
            "tags": []
          },
          "execution_count": 79
        }
      ]
    },
    {
      "cell_type": "code",
      "metadata": {
        "colab": {
          "base_uri": "https://localhost:8080/"
        },
        "id": "orlkPUfjwHFD",
        "outputId": "df00a91b-e769-4640-9847-e6f8a7f6a64f"
      },
      "source": [
        "\n",
        "n_samples = data_n.shape[0]\n",
        "n_val = int(0.2 * n_samples)\n",
        "\n",
        "shuffled_indices = torch.randperm(n_samples)\n",
        "\n",
        "train_indices = shuffled_indices[:-n_val]\n",
        "val_indices = shuffled_indices[-n_val:]\n",
        "\n",
        "train_indices.shape, val_indices.shape\n"
      ],
      "execution_count": 80,
      "outputs": [
        {
          "output_type": "execute_result",
          "data": {
            "text/plain": [
              "(torch.Size([3919]), torch.Size([979]))"
            ]
          },
          "metadata": {
            "tags": []
          },
          "execution_count": 80
        }
      ]
    },
    {
      "cell_type": "code",
      "metadata": {
        "id": "CZNMnqkpxD2D"
      },
      "source": [
        "t_un_train = data_n[train_indices]#input\n",
        "t_c_train = t_u[train_indices]#label\n",
        "\n",
        "t_un_val = data_n[val_indices]\n",
        "t_c_val = t_u[val_indices]\n"
      ],
      "execution_count": 81,
      "outputs": []
    },
    {
      "cell_type": "code",
      "metadata": {
        "colab": {
          "base_uri": "https://localhost:8080/"
        },
        "id": "fthJ_2x9xuCy",
        "outputId": "816093bf-f534-46b4-f6a8-0d5c45a2d7a3"
      },
      "source": [
        "from collections import OrderedDict\n",
        "seq_model = nn.Sequential(OrderedDict([\n",
        "                                       ('hidden_linear', nn.Linear(11,20)),\n",
        "                                       ('hidden_activation', nn.Tanh()),\n",
        "                                       ('output_linear', nn.Linear(20,1))\n",
        "]))\n",
        "seq_model"
      ],
      "execution_count": 83,
      "outputs": [
        {
          "output_type": "execute_result",
          "data": {
            "text/plain": [
              "Sequential(\n",
              "  (hidden_linear): Linear(in_features=11, out_features=20, bias=True)\n",
              "  (hidden_activation): Tanh()\n",
              "  (output_linear): Linear(in_features=20, out_features=1, bias=True)\n",
              ")"
            ]
          },
          "metadata": {
            "tags": []
          },
          "execution_count": 83
        }
      ]
    },
    {
      "cell_type": "code",
      "metadata": {
        "id": "aLqIKkmex0k6"
      },
      "source": [
        "optimizer = optim.SGD(seq_model.parameters(), lr = 1e-3)\n",
        "\n",
        "training_loop(\n",
        "    n_epochs = 5000,\n",
        "    optimizer = optimizer,\n",
        "    model = seq_model,\n",
        "    loss_fn = nn.MSELoss(),\n",
        "    t_u_train = t_un_train,\n",
        "    t_u_val = t_un_val,\n",
        "    t_c_train = t_c_train,\n",
        "    t_c_val = t_c_val)\n",
        "\n",
        "print('output', seq_model(t_un_val))\n",
        "print('answer', t_c_val)\n",
        "print('hidden', seq_model.hidden_linear.weight.grad)"
      ],
      "execution_count": null,
      "outputs": []
    },
    {
      "cell_type": "code",
      "metadata": {
        "id": "U52owVWUyhnp"
      },
      "source": [
        "#visualize...? 글쎄..?"
      ],
      "execution_count": null,
      "outputs": []
    }
  ]
}